{
  "cells": [
    {
      "metadata": {
        "_uuid": "123aa24d9b079ed612a148973032a9073af15bff"
      },
      "cell_type": "markdown",
      "source": "I want to look if there is any difference in learning methods and resources between students and nonstudents. Does working experience influence the choice of media sources, learning platforms or not? What respondents think about online learning? "
    },
    {
      "metadata": {
        "_uuid": "8f2839f25d086af736a60e9eeb907d3b93b6e0e5",
        "_cell_guid": "b1076dfc-b9ad-4769-8c92-a6c4dae69d19",
        "trusted": true,
        "_kg_hide-input": true
      },
      "cell_type": "code",
      "source": "import numpy as np\nimport pandas as pd\nfrom matplotlib import pyplot as plt\nimport seaborn as sns\n\nsns.set()\n%matplotlib inline\n\n#Loading answers for multiple choice questions\ndata = pd.read_csv('../input/multipleChoiceResponses.csv', low_memory=False)\n\n#Delete first row, containing question\ndata = data[1:]\n\n#Create to dataset for students and professionals\nstudents = data[data['Q6'] == 'Student']\nprof = data[data['Q6'] != 'Student']",
      "execution_count": null,
      "outputs": []
    },
    {
      "metadata": {
        "_uuid": "c331223eb630bfb1068fc98636fb3f3216b04e49"
      },
      "cell_type": "markdown",
      "source": "Let's start with some general information about respondents.<br><br>\n\n**1. Gender diversity**<br>\nThere is not a big difference between these two groups. Still, there are much more men than woman in this field."
    },
    {
      "metadata": {
        "trusted": true,
        "scrolled": false,
        "_uuid": "99a614f490955cad4be94890847e5afa3ab16119",
        "_kg_hide-input": true
      },
      "cell_type": "code",
      "source": "plt.figure(figsize=(12,7))\n\n#Draw first suplot\nplt.subplot(121)\nsns.countplot(x=prof['Q1'], data=prof, order=prof['Q1'].value_counts().index)\nplt.title(\"Gender (non-Students)\")\nplt.xlabel(\"Gender\")\nplt.ylabel(\"Number of answers\")\nplt.xticks(rotation=50)\n\n#Draw second subplot    \nplt.subplot(122)\nsns.countplot(x=students['Q1'], data=students, order=students['Q1'].value_counts().index)\nplt.title(\"Gender (Students)\")\nplt.xlabel(\"Gender\")\nplt.ylabel(\"Number of answers\")\nplt.xticks(rotation=50)\n\nplt.tight_layout()\nplt.show()",
      "execution_count": null,
      "outputs": []
    },
    {
      "metadata": {
        "_uuid": "4d5bb4820986d89a1f7a7bb7f3c12909385b21ef"
      },
      "cell_type": "markdown",
      "source": "**2. Age**<br>\nI don't expect any surprises here. Let's just make an assumption \"Students are younger\" and look how data will prove it.<br>\nSo, yes, the majority of student respondents are between 18 and 24 years old. "
    },
    {
      "metadata": {
        "trusted": true,
        "_uuid": "eeebaf757a5f87107a124de87c07023938ea788a",
        "_kg_hide-input": true
      },
      "cell_type": "code",
      "source": "plt.figure(figsize=(13,7))\n\n#1st subplot\nplt.subplot(121)\nax = sns.countplot(x=prof['Q2'].fillna(0), data=prof, order=['18-21', '22-24', '25-29', '30-34', '35-39', '40-44', '45-49', '50-54', '55-59', '60-69','70-79','80+'])\nplt.title(\"Distribution by age (non-Students)\")\nplt.xlabel(\"Age\")\nplt.ylabel(\"Number of answers\")\n    \n#2nd subplot    \nplt.subplot(122)\nax = sns.countplot(x=students['Q2'].fillna(0), data=students, order=['18-21', '22-24', '25-29', '30-34', '35-39', '40-44', '45-49', '50-54', '55-59', '60-69','70-79','80+'])\nplt.title(\"Distribution by age (Students)\")\nplt.xlabel(\"Age\")\nplt.ylabel(\"Number of answers\")\n    \nplt.tight_layout()\nplt.show()",
      "execution_count": null,
      "outputs": []
    },
    {
      "metadata": {
        "trusted": true,
        "_uuid": "747910bdb65b38c7ae3f7c517ab171fcabf74488"
      },
      "cell_type": "markdown",
      "source": "**3. Country**<br>\nTop3 countries are the same for both groups, but the majority of students respondents are from India."
    },
    {
      "metadata": {
        "trusted": true,
        "_uuid": "390b6026a27ac096701e1d3c12fb464f22dc4285",
        "_kg_hide-input": true
      },
      "cell_type": "code",
      "source": "#Where are our students from?\nplt.figure(figsize=(12,12))\nsns.countplot(y=prof['Q3'], data=prof, order=prof['Q3'].value_counts().index)\nplt.title(\"Country (non-Students)\")\nplt.xlabel(\"Number of answers\")\nplt.ylabel(\"Country\")\nplt.show()\n\nplt.figure(figsize=(12,12))\nax = sns.countplot(y=students['Q3'], data=students, order=students['Q3'].value_counts().index)\nplt.title(\"Country (Students)\")\nplt.xlabel(\"Number of answers\")\nplt.ylabel(\"Country\")\nplt.show()",
      "execution_count": null,
      "outputs": []
    },
    {
      "metadata": {
        "_uuid": "1c782711ea76860e1583c47668d2de854795f0da"
      },
      "cell_type": "markdown",
      "source": "**4. Highest education attained or planned**<br>\nAgain, as we could expect, most students are in the middle of their studies, whereas most of the respondents who already work has a Master's degree, and there are more people with a Doctoral degree."
    },
    {
      "metadata": {
        "trusted": true,
        "_uuid": "bfe86b7e7ff3a5f11db0e28ec67fc254d450d8b5",
        "_kg_hide-input": true,
        "scrolled": true
      },
      "cell_type": "code",
      "source": "plt.figure(figsize=(12,7))\n\nplt.subplot(211)\nsns.countplot(y=prof['Q4'], data=prof, order=prof['Q4'].value_counts().index)\nplt.title(\"Highest level of education (non-Students)\")\nplt.ylabel(\"Education level\")\nplt.xlabel(\"Number of answers\")\n\nplt.subplot(212)\nsns.countplot(y=students['Q4'], data=students, order=students['Q4'].value_counts().index)\nplt.title(\"Highest level of education (Students)\")\nplt.ylabel(\"Education level\")\nplt.xlabel(\"Number of answers\")\n\nplt.tight_layout()\nplt.show()",
      "execution_count": null,
      "outputs": []
    },
    {
      "metadata": {
        "trusted": true,
        "_uuid": "574c3e90c0eaae4339fc79c636b4bde9f53212ab"
      },
      "cell_type": "markdown",
      "source": "**5. Undergraduate major**<br>\nTop3 majors are the same for both groups.  Also, we can see that a Business discipline and Physics/Astronomy is more common among professionals than among current students participated in this survey."
    },
    {
      "metadata": {
        "trusted": true,
        "_uuid": "79a736c46ba002dcb849f0c0b609e8bdd60c4390",
        "_kg_hide-input": true
      },
      "cell_type": "code",
      "source": "plt.figure(figsize=(12,7))\n\nplt.subplot(211)\nsns.countplot(y=prof['Q5'], data=prof, order=prof['Q5'].value_counts().index)\nplt.title(\"Undergraduate major (non-Students)\")\nplt.ylabel(\"Major\")\nplt.xlabel(\"Number of answers\")\n\nplt.subplot(212)\nsns.countplot(y=students['Q5'], data=students, order=students['Q5'].value_counts().index)\nplt.title(\"Undergraduate major (Students)\")\nplt.ylabel(\"Major\")\nplt.xlabel(\"Number of answers\")\n\nplt.tight_layout()\nplt.show()",
      "execution_count": null,
      "outputs": []
    },
    {
      "metadata": {
        "_uuid": "267eb0f19b19c3e5d319d42d4ef594d8218ee861"
      },
      "cell_type": "markdown",
      "source": "We already know that CS, DS, Engineering and other related fields are less popular among woman.<br>\nI thought it would be interesting to compare Gender and Undergraduate Major of student respondents. The chart below allows us to see a situation with gender diversity for different majors.<br>\n* Best case is with Humanities: 41% Female vs. 48% Male\n* On the second places are Fine arts and Social sciences: 33-35% Female vs. 61-67% Male.\n* And the least number of woman study Engineering (14%), Physics/astronomy (14%), Computer Science (17%)"
    },
    {
      "metadata": {
        "_kg_hide-input": true,
        "trusted": true,
        "_uuid": "a60507ad41b01136f2f2ba72e4b6646342ec76fa",
        "scrolled": false
      },
      "cell_type": "code",
      "source": "cmap = sns.diverging_palette(5, 250, as_cmap=True)\npd.crosstab(index=students['Q5'], columns=students['Q1'], normalize='index').style.background_gradient(cmap, low=.5, high=0, axis=1).format(\"{:.0%}\")",
      "execution_count": null,
      "outputs": []
    },
    {
      "metadata": {
        "_uuid": "933818b509966a14e71b7db4e81079b1fe1c988c"
      },
      "cell_type": "markdown",
      "source": "**6. What specific programming language do you use?**<br>\n* Python and R are the most popular between Students and Professionals as most often used languages.\n* SQL is on the 2nd place for regular usage and the 3d place as a most frequently used language among nonstudents but doesn't have the same popularity between students, who prefer C/C++ or Java.\n* Given that most students study CS they could use C/C++ or Java more often for their assignments and side projects. Let's look at it closer."
    },
    {
      "metadata": {
        "_kg_hide-input": true,
        "trusted": true,
        "_uuid": "9f87d14f13514c41fe7acd4e6c00316c7a9fa971"
      },
      "cell_type": "code",
      "source": "#Programming languages\nlang = data[['Q6','Q16_Part_1', 'Q16_Part_2', 'Q16_Part_3', 'Q16_Part_4', 'Q16_Part_5', 'Q16_Part_6', 'Q16_Part_7', \n           'Q16_Part_8', 'Q16_Part_9', 'Q16_Part_10', 'Q16_Part_11', 'Q16_Part_12', 'Q16_Part_13', 'Q16_Part_14',\n           'Q16_Part_15', 'Q16_Part_16', 'Q16_Part_17', 'Q16_Part_18']]\ncolumns = {'Q6': 'Title',\n           'Q16_Part_1': 'Python',\n           'Q16_Part_2': 'R',\n           'Q16_Part_3': 'SQL',\n           'Q16_Part_4': 'Bash',\n           'Q16_Part_5': 'Java',\n           'Q16_Part_6': 'JavaScript/Typescript',\n           'Q16_Part_7': 'Visual Basic/VBA',\n           'Q16_Part_8': 'C/C++',\n           'Q16_Part_9': 'MATLAB',\n           'Q16_Part_10': 'Scala',\n           'Q16_Part_11': 'Julia',\n           'Q16_Part_12': 'Go',\n           'Q16_Part_13': 'C#/.NET',\n           'Q16_Part_14': 'PHP',\n           'Q16_Part_15': 'Ruby',\n           'Q16_Part_16': 'SAS/STATA',\n           'Q16_Part_17': 'None',\n           'Q16_Part_18': 'Other'}\nlang_binary = lang.rename(columns=columns).fillna(0).replace('[^\\\\d]',1, regex=True)\nlang = pd.concat([data, lang_binary], axis=1)\n\nplt.figure(figsize=(12,7))\n\nplt.subplot(211)\nlang[lang['Q6'] != 'Student'][['Python','R','SQL','Bash','Java','JavaScript/Typescript',\n                                             'Visual Basic/VBA','C/C++','MATLAB','Scala','Julia','Go',\n                                             'C#/.NET','PHP','Ruby','SAS/STATA','None','Other']].sum().sort_values(ascending=True).plot.barh()\nplt.title(\"What programming languages do use on a regular basis (non-Students)\")\nplt.xlabel(\"Number of answers\")\n\nplt.subplot(212)\nlang[lang['Q6'] == 'Student'][['Python','R','SQL','Bash','Java','JavaScript/Typescript',\n                                             'Visual Basic/VBA','C/C++','MATLAB','Scala','Julia','Go',\n                                             'C#/.NET','PHP','Ruby','SAS/STATA','None','Other']].sum().sort_values(ascending=True).plot.barh()\nplt.title(\"What programming languages do use on a regular basis (Students)\")\nplt.xlabel(\"Number of answers\")\n\nplt.tight_layout()\nplt.show()",
      "execution_count": null,
      "outputs": []
    },
    {
      "metadata": {
        "trusted": true,
        "_uuid": "78fbfede43bf5a8a9a621f56735255bff8b4f2d6",
        "_kg_hide-input": true
      },
      "cell_type": "code",
      "source": "plt.figure(figsize=(12,7))\n\nplt.subplot(211)\nsns.countplot(y=prof['Q17'], data=prof, order=prof['Q17'].value_counts().index)\nplt.title(\"Most often used language (non-Students)\")\nplt.ylabel(\"Programming language\")\nplt.xlabel(\"Number of answers\")\n\nplt.subplot(212)\nsns.countplot(y=students['Q17'], data=students, order=students['Q17'].value_counts().index)\nplt.title(\"Most often used language (Students)\")\nplt.ylabel(\"Programming language\")\nplt.xlabel(\"Number of answers\")\n\nplt.tight_layout()\nplt.show()",
      "execution_count": null,
      "outputs": []
    },
    {
      "metadata": {
        "_uuid": "e710ee017e8fa91d6e979257a12790426169efec"
      },
      "cell_type": "markdown",
      "source": "* As expected, Python is used by students with any Major. \n* Students with CS Major also use C/C++ and Java a lot. \n* Students from Mathematics/Statics use mostly Python and R. \n* Participants who study Social Sciences use Python and R evenly.\n* For me was a big surprise that Students with Fine arts or Humanities Majors use any programming language, but definitely, I'm biased and not very familiar with their curriculum."
    },
    {
      "metadata": {
        "trusted": true,
        "_uuid": "7f4ef625878e5c4d6c9b8e8edc4faf3d33257189",
        "_kg_hide-input": true,
        "scrolled": true
      },
      "cell_type": "code",
      "source": "cmap = sns.diverging_palette(5, 250, as_cmap=True)\npd.crosstab(index=students['Q5'], columns=students['Q17'], normalize='index').style.background_gradient(cmap, low=.5, high=0, axis=1).format(\"{:.1%}\")",
      "execution_count": null,
      "outputs": []
    },
    {
      "metadata": {
        "_uuid": "51bf378d02633e6da10668bb194ba68e475ce1f4"
      },
      "cell_type": "markdown",
      "source": "**7. Programming language you recommend an aspiring data scientist to learn first?**<br>\nThis is an interesting question. We can see if working professional know something that students don't know.<br>\nSo...<br>\n* Python is the most recommended language to learn first.\n* Working professionals recommend not to forget about SQL; it could be beneficial!"
    },
    {
      "metadata": {
        "trusted": true,
        "scrolled": true,
        "_uuid": "9d372ff98d2488dff8e610a3169c251e516c812d",
        "_kg_hide-input": true
      },
      "cell_type": "code",
      "source": "plt.figure(figsize=(12,7))\n\nplt.subplot(211)\nsns.countplot(y=prof['Q18'], data=prof, order=prof['Q18'].value_counts().index)\nplt.title(\"Best first language (non-Students)\")\nplt.ylabel(\"Language\")\nplt.xlabel(\"Number of answers\")\n\nplt.subplot(212)\nsns.countplot(y=students['Q18'], data=students, order=students['Q18'].value_counts().index)\nplt.title(\"Best first language (Students)\")\nplt.ylabel(\"Language\")\nplt.xlabel(\"Number of answers\")\n\nplt.tight_layout()\nplt.show()",
      "execution_count": null,
      "outputs": []
    },
    {
      "metadata": {
        "_uuid": "a84a311879ae9a6642a4a879442c7ea48c12a39d"
      },
      "cell_type": "markdown",
      "source": "**8. Platforms used to learn DS**<br>\n* Coursera is on the first place as a platform to learn DS for both groups. Also, it's also a platform most used to learn DS.\n* After Coursera goes Udemy, DataCamp, KaggleLearn, edX, and Udacity in a different order, but all of them are quite popular.\n* TheSchool.ai and DataQuest are the least used platform to learn DS."
    },
    {
      "metadata": {
        "trusted": true,
        "_uuid": "888743c5e38c8570221884cba2a7a314eee7fc7a",
        "_kg_hide-input": true,
        "scrolled": true
      },
      "cell_type": "code",
      "source": "#Platforms used to learn DS\nlearn = data[['Q36_Part_1', 'Q36_Part_2', 'Q36_Part_3', 'Q36_Part_4', 'Q36_Part_5', 'Q36_Part_6', 'Q36_Part_7',\n              'Q36_Part_8', 'Q36_Part_9', 'Q36_Part_10', 'Q36_Part_11', 'Q36_Part_12', 'Q36_Part_13']]\n\ncolumns = {'Q36_Part_1': 'Udacity',\n           'Q36_Part_2': 'Coursera',\n           'Q36_Part_3': 'edX',\n           'Q36_Part_4': 'DataCamp',\n           'Q36_Part_5': 'DataQuest',\n           'Q36_Part_6': 'Kaggle Learn',\n           'Q36_Part_7': 'Fast.AI',\n           'Q36_Part_8': 'developers.google.com',\n           'Q36_Part_9': 'Udemy',\n           'Q36_Part_10': 'TheSchool.AI',\n           'Q36_Part_11': 'Online University Courses',\n           'Q36_Part_12': 'None',\n           'Q36_Part_13': 'Other'}\n\nlearn = learn.rename(columns=columns).fillna(0).replace('[^\\\\d]',1, regex=True)\n\nlearn_where = pd.concat([data, learn], axis=1)\n\nplt.figure(figsize=(12,7))\n\nplt.subplot(211)\nlearn_where[learn_where['Q6'] != 'Student'][['Coursera', 'Udemy', 'DataCamp', 'Kaggle Learn', 'Udacity',\n                                                        'edX', 'None', 'Online University Courses', 'Fast.AI',\n                                                        'Other', 'developers.google.com', 'DataQuest', 'TheSchool.AI']].sum().sort_values(ascending=True).plot.barh()\nplt.title(\"Platforms used to learn DS (non-Students)\")\nplt.xlabel(\"Number of answers\")\n\nplt.subplot(212)\nlearn_where[learn_where['Q6'] == 'Student'][['Coursera', 'Udemy', 'DataCamp', 'Kaggle Learn', 'Udacity',\n                                                        'edX', 'None', 'Online University Courses', 'Fast.AI',\n                                                        'Other', 'developers.google.com', 'DataQuest', 'TheSchool.AI']].sum().sort_values(ascending=True).plot.barh()\nplt.title(\"Platforms used to learn DS (Students)\")\nplt.xlabel(\"Number of answers\")\n\nplt.tight_layout()\nplt.show()",
      "execution_count": null,
      "outputs": []
    },
    {
      "metadata": {
        "trusted": true,
        "_uuid": "1c6a961047135a33ec60234ff0d4c112a20e8517",
        "_kg_hide-input": true,
        "scrolled": true
      },
      "cell_type": "code",
      "source": "#Platform most used to learn DS\nplt.figure(figsize=(12,7))\n\nplt.subplot(211)\nsns.countplot(y=prof['Q37'], data=prof, order=prof['Q37'].value_counts().index)\nplt.title(\"Platform most used to learn DS (non-Students)\")\nplt.xlabel(\"Number of answers\")\n\nplt.subplot(212)\nsns.countplot(y=students['Q37'], data=students, order=students['Q37'].value_counts().index)\nplt.title(\"Platform most used to learn DS (Students)\")\nplt.xlabel(\"Number of answers\")\n\nplt.tight_layout()\nplt.show()",
      "execution_count": null,
      "outputs": []
    },
    {
      "metadata": {
        "_uuid": "1c26ba796abd2bcb5b34a5c7d1739cf179adb0bb"
      },
      "cell_type": "markdown",
      "source": "**9. Favorite media sources on DS**<br>\n* Kaggle forum is the favorite media source for both groups.\n* On the 2nd place are Medium Blog Posts.\n* Many respondents don't have one favorite media source."
    },
    {
      "metadata": {
        "trusted": true,
        "_uuid": "3cec3bfe623a2eb875ddd734e66449fd996bcb79",
        "_kg_hide-input": true
      },
      "cell_type": "code",
      "source": "resource = data[['Q38_Part_1', 'Q38_Part_2', 'Q38_Part_3', 'Q38_Part_4', 'Q38_Part_5', 'Q38_Part_6', 'Q38_Part_7',\n                 'Q38_Part_8', 'Q38_Part_9', 'Q38_Part_10', 'Q38_Part_11', 'Q38_Part_12', 'Q38_Part_13', 'Q38_Part_14',\n                 'Q38_Part_15', 'Q38_Part_16', 'Q38_Part_17', 'Q38_Part_18', 'Q38_Part_19', 'Q38_Part_20',\n                 'Q38_Part_21', 'Q38_Part_22']]\n\ncolumns = {'Q38_Part_1': 'Twitter',\n           'Q38_Part_2': 'Hacker News',\n           'Q38_Part_3': 'r/machinelearning',\n           'Q38_Part_4': 'Kaggle forums',\n           'Q38_Part_5': 'Fastai forums',\n           'Q38_Part_6': 'Siraj Raval YouTube Channel',\n           'Q38_Part_7': 'DataTau News Aggregator',\n           'Q38_Part_8': 'Linear Digressions Podcast',\n           'Q38_Part_9': 'Cloud AI Adventures (YouTube)',\n           'Q38_Part_10': 'FiveThirtyEight.com',\n           'Q38_Part_11': 'ArXiv & Preprints',\n           'Q38_Part_12': 'Journal Publications',\n           'Q38_Part_13': 'FastML Blog',\n           'Q38_Part_14': 'KDnuggets Blog',\n           'Q38_Part_15': \"O'Reilly Data Newsletter\",\n           'Q38_Part_16': 'Partially Derivative Podcast',\n           'Q38_Part_17': 'The Data Skeptic Podcast',\n           'Q38_Part_18': 'Medium Blog Posts',\n           'Q38_Part_19': 'Towards Data Science Blog',\n           'Q38_Part_20': 'Analytics Vidhya Blog',\n           'Q38_Part_21': 'None/I do not know',\n           'Q38_Part_22': 'Other'}\n\nresource_binary = resource.rename(columns=columns).fillna(0).replace('[^\\\\d]',1, regex=True)\nresource = pd.concat([data, resource_binary], axis=1)\n\nplt.figure(figsize=(12,9))\n\nplt.subplot(211)\nresource[resource['Q6'] != 'Student'][['Twitter','Hacker News','r/machinelearning',\n                                             'Kaggle forums','Fastai forums','Siraj Raval YouTube Channel',\n                                             'DataTau News Aggregator','Linear Digressions Podcast',\n                                             'Cloud AI Adventures (YouTube)','FiveThirtyEight.com',\n                                             'ArXiv & Preprints','Journal Publications','FastML Blog',\n                                             'KDnuggets Blog',\"O'Reilly Data Newsletter\",'Partially Derivative Podcast',\n                                             'The Data Skeptic Podcast','Medium Blog Posts','Towards Data Science Blog',\n                                             'Analytics Vidhya Blog','None/I do not know','Other']].sum().sort_values(ascending=True).plot.barh()\nplt.title(\"Favorite media sources on DS (non-Students)\")\nplt.xlabel(\"Number of answers\")\n\nplt.subplot(212)\nresource[resource['Q6'] == 'Student'][['Twitter','Hacker News','r/machinelearning',\n                                             'Kaggle forums','Fastai forums','Siraj Raval YouTube Channel',\n                                             'DataTau News Aggregator','Linear Digressions Podcast',\n                                             'Cloud AI Adventures (YouTube)','FiveThirtyEight.com',\n                                             'ArXiv & Preprints','Journal Publications','FastML Blog',\n                                             'KDnuggets Blog',\"O'Reilly Data Newsletter\",'Partially Derivative Podcast',\n                                             'The Data Skeptic Podcast','Medium Blog Posts','Towards Data Science Blog',\n                                             'Analytics Vidhya Blog','None/I do not know','Other']].sum().sort_values(ascending=True).plot.barh()\nplt.title(\"Favorite media sources on DS (Students)\")\nplt.xlabel(\"Number of answers\")\n\nplt.tight_layout()\nplt.show()",
      "execution_count": null,
      "outputs": []
    },
    {
      "metadata": {
        "_uuid": "a550128bee74cda3a2e9e330988dfee30789b7d7"
      },
      "cell_type": "markdown",
      "source": "**10. % Contribution of your ML/DS learning by categories**<br>\n* University makes the most significant contribution to learning for Students\n* Work has less impact to the learning process for nonStudents, Self-taught and Online courses contribute more\n* Kaggle competitions make the least addition to learning for both Students and non-Students"
    },
    {
      "metadata": {
        "_kg_hide-input": true,
        "trusted": true,
        "_uuid": "0a435a3902e022e22eecfd23010ad89e3fa84267"
      },
      "cell_type": "code",
      "source": "learn_contr = data[['Q35_Part_1', 'Q35_Part_2', 'Q35_Part_3', 'Q35_Part_4', 'Q35_Part_5', 'Q35_Part_6']]\n\ncolumns = {'Q35_Part_1': 'Self-taught',\n           'Q35_Part_2': 'Online courses',\n           'Q35_Part_3': 'Work',\n           'Q35_Part_4': 'University',\n           'Q35_Part_5': 'Kaggle comp.',\n           'Q35_Part_6': 'Other'}\n\nlearn_contr = learn_contr.rename(columns=columns)\nlearn_contr = pd.concat([data['Q6'], learn_contr], axis=1)\nlearn_contr.loc[learn_contr.Q6 != 'Student', 'Q6'] = 'nonStudent'\nlearn_contr['Kaggle comp.'].loc[learn_contr['Kaggle comp.'].astype(float)<0] = 0 \n\n#Create boxplot for each category\nplt.figure(figsize=(12,12))\n\nplt.subplot(231)\nsns.boxplot(y=learn_contr['Self-taught'].astype(np.float), x=learn_contr['Q6'])\nplt.title(\"Self-taught\")\nplt.ylabel(\"% Contribution\")\n\nplt.subplot(232)\nsns.boxplot(y=learn_contr['Online courses'].astype(np.float), x=learn_contr['Q6'])\nplt.title(\"Online courses (Coursera, Udemy, edX, etc.)\")\nplt.ylabel(\"% Contribution\")\n\nplt.subplot(233)\nsns.boxplot(y=learn_contr['Work'].astype(np.float), x=learn_contr['Q6'])\nplt.title(\"Work\")\nplt.ylabel(\"% Contribution\")\n\nplt.subplot(234)\nsns.boxplot(y=learn_contr['University'].astype(np.float), x=learn_contr['Q6'])\nplt.title(\"University\")\nplt.ylabel(\"% Contribution\")\n\nplt.subplot(235)\nsns.boxplot(y=learn_contr['Kaggle comp.'].astype(np.float), x=learn_contr['Q6'])\nplt.title(\"Kaggle competitions\")\nplt.ylabel(\"% Contribution\")\n\nplt.subplot(236)\nsns.boxplot(y=learn_contr['Other'].astype(np.float), x=learn_contr['Q6'])\nplt.title(\"Other\")\nplt.ylabel(\"% Contribution\")\n\nplt.tight_layout()\nplt.show()",
      "execution_count": null,
      "outputs": []
    },
    {
      "metadata": {
        "_uuid": "aa7051247589ecdb7f2a26775da60ebddce63f54"
      },
      "cell_type": "markdown",
      "source": "**11. Quality of online learning platforms and in-person bootcamps compared by traditional Institutions**<br>\n* Both Students and nonStudents respondents find that Online learning platforms are better than Traditional Institutions.\n* Majority of both groups don't have opinion about in-person Bootcamps."
    },
    {
      "metadata": {
        "_kg_hide-input": true,
        "trusted": true,
        "_uuid": "80f9b92c535ae228224498f9752665cd5af1726c"
      },
      "cell_type": "code",
      "source": "plt.figure(figsize=(10,7))\n\nplt.subplot(211)\nsns.countplot(y=prof['Q39_Part_1'], data=prof, order=prof['Q39_Part_1'].value_counts().index)\nplt.title(\"Online learning platforms and MOOCs vs. Traditional Institutions(non-Students)\")\nplt.xlabel(\"Number of answers\")\n\nplt.subplot(212)\nsns.countplot(y=students['Q39_Part_1'], data=students, order=students['Q39_Part_1'].value_counts().index)\nplt.title(\"Online learning platforms and MOOCs vs. Traditional Institutions (Students)\")\nplt.xlabel(\"Number of answers\")\n\nplt.tight_layout()\nplt.show()",
      "execution_count": null,
      "outputs": []
    },
    {
      "metadata": {
        "_kg_hide-input": true,
        "trusted": true,
        "_uuid": "fc49b5c2c9e56e2848644be33f023f898c6c6c93"
      },
      "cell_type": "code",
      "source": "plt.figure(figsize=(10,7))\n\nplt.subplot(211)\nsns.countplot(y=prof['Q39_Part_2'], data=prof, order=prof['Q39_Part_2'].value_counts().index)\nplt.title(\"In-person bootcamps vs. Traditional Institutions(non-Students)\")\nplt.xlabel(\"Number of answers\")\n\nplt.subplot(212)\nsns.countplot(y=students['Q39_Part_2'], data=students, order=students['Q39_Part_2'].value_counts().index)\nplt.title(\"In-person bootcamps vs. Traditional Institutions (Students)\")\nplt.xlabel(\"Number of answers\")\n\nplt.tight_layout()\nplt.show()",
      "execution_count": null,
      "outputs": []
    },
    {
      "metadata": {
        "_uuid": "fd08f940d73777ed67bdc8a8cb8f78e9c7dfc6bc"
      },
      "cell_type": "markdown",
      "source": "**12. Which better demonstrates expertise in data science: academic achievements or independent projects**<br>\n* Nonstudents mostly responded that Independent projects are more/slightly more important than academic achievements\n* There is an almost equal number of students who answered that Independent projects are much important and that Independent projects are equally important. "
    },
    {
      "metadata": {
        "trusted": true,
        "_uuid": "76dd9bfb03400cc154866ad5e24571c6ad18ab97",
        "_kg_hide-input": true
      },
      "cell_type": "code",
      "source": "plt.figure(figsize=(12,7))\n\nplt.subplot(211)\nsns.countplot(y=prof['Q40'], data=prof, order=prof['Q40'].value_counts().index)\nplt.title(\"Academic achievements vs. independent projects (non-Students)\")\nplt.xlabel(\"Number of answers\")\n\nplt.subplot(212)\nsns.countplot(y=students['Q40'], data=students, order=students['Q40'].value_counts().index)\nplt.title(\"Academic achievements vs. independent projects (Students)\")\nplt.xlabel(\"Number of answers\")\n\nplt.tight_layout()\nplt.show()",
      "execution_count": null,
      "outputs": []
    },
    {
      "metadata": {
        "trusted": true,
        "_uuid": "8504b6f1619c66dd7bcdbdcdc7b5545aed4b1dcf"
      },
      "cell_type": "markdown",
      "source": "**Summary:**<br>\n* There is no big difference between Students and nonStudents in this survey. All respondents use mostly the same learning resources and methods. \n* It is better to invest time and efforts into independents projects as most of the nonStudents find them much or slightly more important than academic achievements.\n* Most of the respondents have a better opinion about Online learning platforms and MOOCs than about Traditional institution.\n* Nevertheless, it is expected that a Data Scientist has at least Bachelor degree, even better Master or Doctoral degree."
    },
    {
      "metadata": {
        "trusted": true,
        "_uuid": "673dd80b2d25eb4b211e72ff9892446469c38c58"
      },
      "cell_type": "code",
      "source": "",
      "execution_count": null,
      "outputs": []
    }
  ],
  "metadata": {
    "kernelspec": {
      "display_name": "Python 3",
      "language": "python",
      "name": "python3"
    },
    "language_info": {
      "name": "python",
      "version": "3.6.6",
      "mimetype": "text/x-python",
      "codemirror_mode": {
        "name": "ipython",
        "version": 3
      },
      "pygments_lexer": "ipython3",
      "nbconvert_exporter": "python",
      "file_extension": ".py"
    }
  },
  "nbformat": 4,
  "nbformat_minor": 1
}